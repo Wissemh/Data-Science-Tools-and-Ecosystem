{
 "cells": [
  {
   "cell_type": "markdown",
   "metadata": {},
   "source": [
    "<center>\n",
    "    <img src=\"https://cf-courses-data.s3.us.cloud-object-storage.appdomain.cloud/IBMDeveloperSkillsNetwork-DS0105EN-SkillsNetwork/labs/Module2/images/SN_web_lightmode.png\" width=\"300\" alt=\"cognitiveclass.ai logo\">\n",
    "</center>\n"
   ]
  },
  {
   "cell_type": "markdown",
   "metadata": {},
   "source": [
    "**Data Science Tools and Ecosystem**"
   ]
  },
  {
   "cell_type": "markdown",
   "metadata": {},
   "source": [
    "In this notebook, Data Science Tools and Ecosystem are summarized."
   ]
  },
  {
   "cell_type": "markdown",
   "metadata": {},
   "source": [
    "The data science languages are : \n",
    "- Python \n",
    "- R\n",
    "- SQL\n",
    "- Julia\n",
    "- Scala \n"
   ]
  },
  {
   "cell_type": "markdown",
   "metadata": {},
   "source": [
    "The data science libraries are : \n",
    "- NumPy \n",
    "- pandas\n",
    "- scikit-learn\n",
    "- TensorFlow\n",
    "- PyTorch\n",
    "- Matplotlib\n",
    "- Seaborn\n"
   ]
  },
  {
   "cell_type": "markdown",
   "metadata": {},
   "source": [
    "The data science tools are : \n",
    "| Tool        | Description                                          |\n",
    "|-------------|------------------------------------------------------|\n",
    "| NumPy       | Fundamental library for numerical computing in Python |\n",
    "| pandas      | Versatile library for data manipulation and analysis  |\n",
    "| scikit-learn| Comprehensive machine learning library                |\n",
    "| TensorFlow  | Library for building and training machine learning models |\n",
    "| PyTorch     | Library for deep learning                             |\n",
    "| Matplotlib  | Plotting library for creating static and interactive visualizations |\n"
   ]
  },
  {
   "cell_type": "markdown",
   "metadata": {},
   "source": [
    "# Arithmetic Expressions\n",
    "\n",
    "Arithmetic expressions are mathematical expressions that involve various arithmetic operations, such as addition, subtraction, multiplication, and division. These expressions are commonly used to perform calculations in programming and data science.\n",
    "\n",
    "Here are some examples of arithmetic expressions:\n",
    "\n",
    "1. Addition: The sum of two numbers.\n",
    "   - Example: `2 + 3 = 5`\n",
    "\n",
    "2. Subtraction: The difference between two numbers.\n",
    "   - Example: `7 - 4 = 3`\n",
    "\n",
    "3. Multiplication: The product of two numbers.\n",
    "   - Example: `5 * 6 = 30`\n",
    "\n",
    "4. Division: The quotient obtained by dividing one number by another.\n",
    "   - Example: `10 / 2 = 5`\n",
    "\n",
    "5. Exponentiation: Raising a number to a power.\n",
    "   - Example: `2 ** 3 = 8` (2 raised to the power of 3)\n",
    "\n",
    "6. Modulo: The remainder obtained after dividing one number by another.\n",
    "   - Example: `15 % 4 = 3` (remainder of 15 divided by 4)\n",
    "\n",
    "These examples represent basic arithmetic operations. In\n"
   ]
  },
  {
   "cell_type": "code",
   "execution_count": 3,
   "metadata": {
    "tags": []
   },
   "outputs": [
    {
     "name": "stdout",
     "output_type": "stream",
     "text": [
      "Multiplication Result: 15\n",
      "Addition Result: 8\n"
     ]
    }
   ],
   "source": [
    "# Multiply and Add Numbers\n",
    "number1 = 5\n",
    "number2 = 3\n",
    "\n",
    "# Multiply the numbers\n",
    "multiplication_result = number1 * number2\n",
    "print(\"Multiplication Result:\", multiplication_result)\n",
    "\n",
    "# Add the numbers\n",
    "addition_result = number1 + number2\n",
    "print(\"Addition Result:\", addition_result)\n",
    "\n"
   ]
  },
  {
   "cell_type": "code",
   "execution_count": 4,
   "metadata": {
    "tags": []
   },
   "outputs": [
    {
     "name": "stdout",
     "output_type": "stream",
     "text": [
      "150 minutes is equal to 2 hours and 30 minutes.\n"
     ]
    }
   ],
   "source": [
    "# Convert Minutes to Hours\n",
    "minutes = 150\n",
    "\n",
    "# Calculate hours and minutes\n",
    "hours = minutes // 60\n",
    "remaining_minutes = minutes % 60\n",
    "\n",
    "# Print the result\n",
    "print(minutes, \"minutes is equal to\", hours, \"hours and\", remaining_minutes, \"minutes.\")\n"
   ]
  },
  {
   "cell_type": "markdown",
   "metadata": {},
   "source": [
    "## Objectives\n",
    "\n",
    "In this project, our main objectives are:\n",
    "\n",
    "1. Gather and preprocess the dataset:\n",
    "   - Collect the necessary data from reliable sources.\n",
    "   - Handle missing values, outliers, and data inconsistencies.\n",
    "   - Perform necessary data transformations and feature engineering.\n",
    "\n",
    "2. Explore and visualize the data:\n",
    "   - Conduct descriptive statistical analysis to understand the data.\n",
    "   - Visualize the distributions, relationships, and patterns in the data.\n",
    "   - Gain insights into key variables and their impact on the problem.\n",
    "\n",
    "3. Build and evaluate predictive models:\n",
    "   - Select appropriate machine learning algorithms for the task.\n",
    "   - Split the data into training and testing sets.\n",
    "   - Train the models using the training data and evaluate their performance.\n",
    "   - Fine-tune the models by optimizing hyperparameters.\n",
    "\n",
    "By accomplishing these objectives, we aim to gain a deep understanding of the data, build accurate predictive models, and provide valuable insights for decision-making.\n"
   ]
  },
  {
   "cell_type": "markdown",
   "metadata": {},
   "source": [
    "**Author: Wissem Hssan**\n"
   ]
  },
  {
   "cell_type": "code",
   "execution_count": null,
   "metadata": {},
   "outputs": [],
   "source": []
  }
 ],
 "metadata": {
  "kernelspec": {
   "display_name": "Python",
   "language": "python",
   "name": "conda-env-python-py"
  },
  "language_info": {
   "codemirror_mode": {
    "name": "ipython",
    "version": 3
   },
   "file_extension": ".py",
   "mimetype": "text/x-python",
   "name": "python",
   "nbconvert_exporter": "python",
   "pygments_lexer": "ipython3",
   "version": "3.7.12"
  }
 },
 "nbformat": 4,
 "nbformat_minor": 4
}
